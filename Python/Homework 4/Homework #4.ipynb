{
 "cells": [
  {
   "cell_type": "markdown",
   "metadata": {},
   "source": [
    "### Домашнее задание 4\n"
   ]
  },
  {
   "cell_type": "markdown",
   "metadata": {},
   "source": [
    "**1 задание** "
   ]
  },
  {
   "cell_type": "code",
   "execution_count": 1,
   "metadata": {},
   "outputs": [],
   "source": [
    "from datetime import datetime"
   ]
  },
  {
   "cell_type": "code",
   "execution_count": 7,
   "metadata": {},
   "outputs": [],
   "source": [
    "from datetime import timedelta"
   ]
  },
  {
   "cell_type": "code",
   "execution_count": 33,
   "metadata": {},
   "outputs": [
    {
     "data": {
      "text/plain": [
       "[datetime.datetime(2018, 1, 1, 0, 0),\n",
       " datetime.datetime(2018, 1, 2, 0, 0),\n",
       " datetime.datetime(2018, 1, 3, 0, 0),\n",
       " datetime.datetime(2018, 1, 4, 0, 0),\n",
       " datetime.datetime(2018, 1, 5, 0, 0),\n",
       " datetime.datetime(2018, 1, 6, 0, 0),\n",
       " datetime.datetime(2018, 1, 7, 0, 0),\n",
       " datetime.datetime(2018, 1, 8, 0, 0),\n",
       " datetime.datetime(2018, 1, 9, 0, 0)]"
      ]
     },
     "execution_count": 33,
     "metadata": {},
     "output_type": "execute_result"
    }
   ],
   "source": [
    "def date_range (start_date, end_date):\n",
    "    start_date_1=datetime.strptime(start_date, '%Y-%m-%d')\n",
    "    end_date_1=datetime.strptime(end_date, '%Y-%m-%d')\n",
    "    spisok_dat=[]\n",
    "    while start_date_1<=end_date_1:\n",
    "        spisok_dat.append(start_date_1)\n",
    "        start_date_1=start_date_1+timedelta(days=1)\n",
    "    return spisok_dat\n",
    "\n",
    "list_dat=date_range('2018-01-01','2018-01-09')\n",
    "list_dat\n",
    "        "
   ]
  },
  {
   "cell_type": "markdown",
   "metadata": {},
   "source": [
    "**2 задание**"
   ]
  },
  {
   "cell_type": "code",
   "execution_count": 153,
   "metadata": {},
   "outputs": [
    {
     "data": {
      "text/plain": [
       "[datetime.datetime(2018, 1, 1, 0, 0),\n",
       " datetime.datetime(2018, 1, 2, 0, 0),\n",
       " datetime.datetime(2018, 1, 3, 0, 0),\n",
       " datetime.datetime(2018, 1, 4, 0, 0),\n",
       " datetime.datetime(2018, 1, 5, 0, 0),\n",
       " datetime.datetime(2018, 1, 6, 0, 0),\n",
       " datetime.datetime(2018, 1, 7, 0, 0),\n",
       " datetime.datetime(2018, 1, 8, 0, 0),\n",
       " datetime.datetime(2018, 1, 9, 0, 0)]"
      ]
     },
     "execution_count": 153,
     "metadata": {},
     "output_type": "execute_result"
    }
   ],
   "source": [
    "def date_range_2 (start_date, end_date):\n",
    "    spisok_dat=[]\n",
    "    try:\n",
    "        start_date_1=datetime.strptime(start_date, '%Y-%m-%d')\n",
    "        end_date_1=datetime.strptime(end_date, '%Y-%m-%d')\n",
    "    except Exception:\n",
    "        spisok_dat=['Дядя(тетя), проверь формат даты']\n",
    "        return spisok_dat\n",
    "    \n",
    "    if start_date_1>end_date_1:\n",
    "        return spisok_dat\n",
    "    else:\n",
    "        while start_date_1<=end_date_1:\n",
    "            spisok_dat.append(start_date_1)\n",
    "            start_date_1=start_date_1+timedelta(days=1)\n",
    "        return spisok_dat\n",
    "    \n",
    "\n",
    "list_dat=date_range_2('2018-01-01','2018-01-09')\n",
    "list_dat\n",
    "\n",
    "\n",
    "        \n",
    "        "
   ]
  },
  {
   "cell_type": "markdown",
   "metadata": {},
   "source": [
    "**3 задание**"
   ]
  },
  {
   "cell_type": "code",
   "execution_count": 154,
   "metadata": {},
   "outputs": [
    {
     "name": "stdout",
     "output_type": "stream",
     "text": [
      "2018-04-02  = true\n",
      "2018-02-29  = false\n",
      "2018-19-02  = false\n"
     ]
    }
   ],
   "source": [
    "stream=['2018-04-02','2018-02-29','2018-19-02']\n",
    "def date_true(stram):\n",
    "    i=0\n",
    "    for i in range(len(stram)):\n",
    "        try:\n",
    "            date_format=datetime.strptime(stram[i], '%Y-%m-%d')\n",
    "            print(stram[i],' = true')\n",
    "        except Exception:\n",
    "            print(stram[i],' = false')\n",
    "        i+=1\n",
    "date_true(stream)"
   ]
  },
  {
   "cell_type": "markdown",
   "metadata": {},
   "source": [
    "**4 задание**"
   ]
  },
  {
   "cell_type": "code",
   "execution_count": 155,
   "metadata": {},
   "outputs": [
    {
     "data": {
      "text/plain": [
       "[datetime.datetime(2019, 4, 1, 0, 0),\n",
       " datetime.datetime(2019, 4, 2, 0, 0),\n",
       " datetime.datetime(2019, 4, 3, 0, 0),\n",
       " datetime.datetime(2019, 4, 4, 0, 0),\n",
       " datetime.datetime(2019, 4, 5, 0, 0),\n",
       " datetime.datetime(2019, 4, 6, 0, 0),\n",
       " datetime.datetime(2019, 4, 7, 0, 0),\n",
       " datetime.datetime(2019, 4, 8, 0, 0),\n",
       " datetime.datetime(2019, 4, 9, 0, 0),\n",
       " datetime.datetime(2019, 4, 10, 0, 0),\n",
       " datetime.datetime(2019, 4, 11, 0, 0),\n",
       " datetime.datetime(2019, 4, 12, 0, 0),\n",
       " datetime.datetime(2019, 4, 13, 0, 0),\n",
       " datetime.datetime(2019, 4, 14, 0, 0),\n",
       " datetime.datetime(2019, 4, 15, 0, 0),\n",
       " datetime.datetime(2019, 4, 16, 0, 0),\n",
       " datetime.datetime(2019, 4, 17, 0, 0),\n",
       " datetime.datetime(2019, 4, 18, 0, 0),\n",
       " datetime.datetime(2019, 4, 19, 0, 0),\n",
       " datetime.datetime(2019, 4, 20, 0, 0),\n",
       " datetime.datetime(2019, 4, 21, 0, 0),\n",
       " datetime.datetime(2019, 4, 22, 0, 0),\n",
       " datetime.datetime(2019, 4, 23, 0, 0),\n",
       " datetime.datetime(2019, 4, 24, 0, 0),\n",
       " datetime.datetime(2019, 4, 25, 0, 0),\n",
       " datetime.datetime(2019, 4, 26, 0, 0),\n",
       " datetime.datetime(2019, 4, 27, 0, 0),\n",
       " datetime.datetime(2019, 4, 28, 0, 0),\n",
       " datetime.datetime(2019, 4, 29, 0, 0),\n",
       " datetime.datetime(2019, 4, 30, 0, 0)]"
      ]
     },
     "execution_count": 155,
     "metadata": {},
     "output_type": "execute_result"
    }
   ],
   "source": [
    "from datetime import date\n",
    "from dateutil.relativedelta import *\n",
    "date='2019-05-1'\n",
    "    \n",
    "def return_days(date):\n",
    "    date_format=datetime.strptime(date, '%Y-%m-%d')\n",
    "    d=datetime.date(date_format)\n",
    "    data_list=[]\n",
    "    i=0\n",
    "    if d.day==1:\n",
    "        date_start=date_format-timedelta(days=d.day-1)-relativedelta(months=1)\n",
    "        date_end=date_format-timedelta(days=d.day)\n",
    "    else:\n",
    "        date_start=date_format-timedelta(days=d.day-1)\n",
    "        date_end=date_format-timedelta(days=1)\n",
    "    while date_start<=date_end:\n",
    "        data_list.append(date_start)\n",
    "        date_start+=timedelta(days=1)\n",
    "    return data_list\n",
    "            \n",
    "gr=return_days(date)\n",
    "gr"
   ]
  },
  {
   "cell_type": "markdown",
   "metadata": {},
   "source": [
    "**5 задание**"
   ]
  },
  {
   "cell_type": "code",
   "execution_count": 156,
   "metadata": {},
   "outputs": [
    {
     "name": "stdout",
     "output_type": "stream",
     "text": [
      "2019-03-24\n",
      "2019-03-18\n",
      "2019-03-31\n",
      "Проверьте правильность команды\n"
     ]
    }
   ],
   "source": [
    "from datetime import date\n",
    "from dateutil.relativedelta import *\n",
    "date=['today','last monday', 'last day', 'borabora']\n",
    "    \n",
    "def return_days(date):\n",
    "    datetime_today=datetime.now(tz=None)\n",
    "    date_today=datetime.date(datetime_today)\n",
    "    if date=='today':\n",
    "        date_today=date_today.strftime('%Y-%m-%d')\n",
    "        print(date_today)\n",
    "    elif date=='last monday':\n",
    "        date_today=date_today-timedelta(days=datetime.weekday(date_today))\n",
    "        date_today=date_today.strftime('%Y-%m-%d')\n",
    "        print(date_today)\n",
    "    elif date=='last day':\n",
    "        date_today=date_today+relativedelta(months=1)-timedelta(days=date_today.day)\n",
    "        date_today=date_today.strftime('%Y-%m-%d')\n",
    "        print(date_today)\n",
    "    else:\n",
    "        print('Проверьте правильность команды')\n",
    "\n",
    "i=0\n",
    "for i in range(len(date)):\n",
    "        return_days(date[i])"
   ]
  }
 ],
 "metadata": {
  "kernelspec": {
   "display_name": "Python 3",
   "language": "python",
   "name": "python3"
  },
  "language_info": {
   "codemirror_mode": {
    "name": "ipython",
    "version": 3
   },
   "file_extension": ".py",
   "mimetype": "text/x-python",
   "name": "python",
   "nbconvert_exporter": "python",
   "pygments_lexer": "ipython3",
   "version": "3.7.1"
  }
 },
 "nbformat": 4,
 "nbformat_minor": 2
}

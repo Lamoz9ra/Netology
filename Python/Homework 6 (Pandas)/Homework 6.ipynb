{
 "cells": [
  {
   "cell_type": "markdown",
   "metadata": {},
   "source": [
    "#### Домашнаее задание 6\n"
   ]
  },
  {
   "cell_type": "markdown",
   "metadata": {},
   "source": [
    "Задача 1 "
   ]
  },
  {
   "cell_type": "code",
   "execution_count": 138,
   "metadata": {},
   "outputs": [],
   "source": [
    "import pandas as pd"
   ]
  },
  {
   "cell_type": "code",
   "execution_count": 139,
   "metadata": {},
   "outputs": [
    {
     "data": {
      "text/html": [
       "<div>\n",
       "<style scoped>\n",
       "    .dataframe tbody tr th:only-of-type {\n",
       "        vertical-align: middle;\n",
       "    }\n",
       "\n",
       "    .dataframe tbody tr th {\n",
       "        vertical-align: top;\n",
       "    }\n",
       "\n",
       "    .dataframe thead th {\n",
       "        text-align: right;\n",
       "    }\n",
       "</style>\n",
       "<table border=\"1\" class=\"dataframe\">\n",
       "  <thead>\n",
       "    <tr style=\"text-align: right;\">\n",
       "      <th></th>\n",
       "      <th>keyword</th>\n",
       "      <th>shows</th>\n",
       "    </tr>\n",
       "  </thead>\n",
       "  <tbody>\n",
       "    <tr>\n",
       "      <th>0</th>\n",
       "      <td>вк</td>\n",
       "      <td>64292779</td>\n",
       "    </tr>\n",
       "    <tr>\n",
       "      <th>1</th>\n",
       "      <td>одноклассники</td>\n",
       "      <td>63810309</td>\n",
       "    </tr>\n",
       "    <tr>\n",
       "      <th>2</th>\n",
       "      <td>порно</td>\n",
       "      <td>41747114</td>\n",
       "    </tr>\n",
       "    <tr>\n",
       "      <th>3</th>\n",
       "      <td>ютуб</td>\n",
       "      <td>39995567</td>\n",
       "    </tr>\n",
       "    <tr>\n",
       "      <th>4</th>\n",
       "      <td>вконтакте</td>\n",
       "      <td>21014195</td>\n",
       "    </tr>\n",
       "  </tbody>\n",
       "</table>\n",
       "</div>"
      ],
      "text/plain": [
       "         keyword     shows\n",
       "0             вк  64292779\n",
       "1  одноклассники  63810309\n",
       "2          порно  41747114\n",
       "3           ютуб  39995567\n",
       "4      вконтакте  21014195"
      ]
     },
     "execution_count": 139,
     "metadata": {},
     "output_type": "execute_result"
    }
   ],
   "source": [
    "data = pd.read_csv('keywords.csv')\n",
    "data.head()"
   ]
  },
  {
   "cell_type": "code",
   "execution_count": 140,
   "metadata": {},
   "outputs": [],
   "source": [
    "geo_data = {\n",
    "\n",
    "    'Центр': ['москва', 'тула', 'ярославль'],\n",
    "\n",
    "    'Северо-Запад': ['петербург', 'псков', 'мурманск'],\n",
    "\n",
    "    'Дальний Восток': ['владивосток', 'сахалин', 'хабаровск']\n",
    "\n",
    "}\n"
   ]
  },
  {
   "cell_type": "code",
   "execution_count": 141,
   "metadata": {},
   "outputs": [],
   "source": [
    "def geopos(row):\n",
    "    geo_loc='undefined'\n",
    "    for key in geo_data.keys():\n",
    "        for i in range(len(geo_data[key])):\n",
    "            if geo_data[key][i] in row['keyword']:\n",
    "                geo_loc=key\n",
    "    return geo_loc\n",
    "\n"
   ]
  },
  {
   "cell_type": "code",
   "execution_count": 142,
   "metadata": {},
   "outputs": [
    {
     "data": {
      "text/plain": [
       "undefined         99253\n",
       "Центр               385\n",
       "Северо-Запад        268\n",
       "Дальний Восток       94\n",
       "Name: geo, dtype: int64"
      ]
     },
     "execution_count": 142,
     "metadata": {},
     "output_type": "execute_result"
    }
   ],
   "source": [
    "data['geo'] = data.apply(geopos, axis=1)\n",
    "data['geo'].value_counts()"
   ]
  },
  {
   "cell_type": "code",
   "execution_count": 143,
   "metadata": {},
   "outputs": [
    {
     "data": {
      "text/html": [
       "<div>\n",
       "<style scoped>\n",
       "    .dataframe tbody tr th:only-of-type {\n",
       "        vertical-align: middle;\n",
       "    }\n",
       "\n",
       "    .dataframe tbody tr th {\n",
       "        vertical-align: top;\n",
       "    }\n",
       "\n",
       "    .dataframe thead th {\n",
       "        text-align: right;\n",
       "    }\n",
       "</style>\n",
       "<table border=\"1\" class=\"dataframe\">\n",
       "  <thead>\n",
       "    <tr style=\"text-align: right;\">\n",
       "      <th></th>\n",
       "      <th>keyword</th>\n",
       "      <th>shows</th>\n",
       "      <th>geo</th>\n",
       "    </tr>\n",
       "  </thead>\n",
       "  <tbody>\n",
       "    <tr>\n",
       "      <th>6999</th>\n",
       "      <td>москва 24</td>\n",
       "      <td>37459</td>\n",
       "      <td>Центр</td>\n",
       "    </tr>\n",
       "    <tr>\n",
       "      <th>19120</th>\n",
       "      <td>avto ru москва</td>\n",
       "      <td>15992</td>\n",
       "      <td>Центр</td>\n",
       "    </tr>\n",
       "    <tr>\n",
       "      <th>73226</th>\n",
       "      <td>фанатик спартак москва</td>\n",
       "      <td>5353</td>\n",
       "      <td>Центр</td>\n",
       "    </tr>\n",
       "    <tr>\n",
       "      <th>68005</th>\n",
       "      <td>гостиница москва</td>\n",
       "      <td>5651</td>\n",
       "      <td>Центр</td>\n",
       "    </tr>\n",
       "    <tr>\n",
       "      <th>7090</th>\n",
       "      <td>гисметео ярославль</td>\n",
       "      <td>37008</td>\n",
       "      <td>Центр</td>\n",
       "    </tr>\n",
       "  </tbody>\n",
       "</table>\n",
       "</div>"
      ],
      "text/plain": [
       "                      keyword  shows    geo\n",
       "6999                москва 24  37459  Центр\n",
       "19120          avto ru москва  15992  Центр\n",
       "73226  фанатик спартак москва   5353  Центр\n",
       "68005        гостиница москва   5651  Центр\n",
       "7090       гисметео ярославль  37008  Центр"
      ]
     },
     "execution_count": 143,
     "metadata": {},
     "output_type": "execute_result"
    }
   ],
   "source": [
    "data.sort_values('geo', ascending=False).head()"
   ]
  },
  {
   "cell_type": "markdown",
   "metadata": {},
   "source": [
    "Задача 2"
   ]
  },
  {
   "cell_type": "code",
   "execution_count": 144,
   "metadata": {},
   "outputs": [],
   "source": [
    "data = pd.read_csv('ml-latest-small/ratings.csv')\n"
   ]
  },
  {
   "cell_type": "code",
   "execution_count": 145,
   "metadata": {},
   "outputs": [],
   "source": [
    "data=data.groupby('movieId').mean()"
   ]
  },
  {
   "cell_type": "code",
   "execution_count": 146,
   "metadata": {},
   "outputs": [],
   "source": [
    "def movie_class(row):\n",
    "    if row['rating']<=2:\n",
    "        movie_class_i='Низкий рейтинг'\n",
    "    if row['rating']<=4:\n",
    "        movie_class_i='Средний рейтинг'\n",
    "    else:\n",
    "        movie_class_i='Высокий рейтинг'\n",
    "    return movie_class_i"
   ]
  },
  {
   "cell_type": "code",
   "execution_count": 147,
   "metadata": {},
   "outputs": [
    {
     "data": {
      "text/html": [
       "<div>\n",
       "<style scoped>\n",
       "    .dataframe tbody tr th:only-of-type {\n",
       "        vertical-align: middle;\n",
       "    }\n",
       "\n",
       "    .dataframe tbody tr th {\n",
       "        vertical-align: top;\n",
       "    }\n",
       "\n",
       "    .dataframe thead th {\n",
       "        text-align: right;\n",
       "    }\n",
       "</style>\n",
       "<table border=\"1\" class=\"dataframe\">\n",
       "  <thead>\n",
       "    <tr style=\"text-align: right;\">\n",
       "      <th></th>\n",
       "      <th>userId</th>\n",
       "      <th>rating</th>\n",
       "      <th>timestamp</th>\n",
       "      <th>movie_class</th>\n",
       "    </tr>\n",
       "    <tr>\n",
       "      <th>movieId</th>\n",
       "      <th></th>\n",
       "      <th></th>\n",
       "      <th></th>\n",
       "      <th></th>\n",
       "    </tr>\n",
       "  </thead>\n",
       "  <tbody>\n",
       "    <tr>\n",
       "      <th>163949</th>\n",
       "      <td>547.000000</td>\n",
       "      <td>5.000000</td>\n",
       "      <td>1.476419e+09</td>\n",
       "      <td>Высокий рейтинг</td>\n",
       "    </tr>\n",
       "    <tr>\n",
       "      <th>86817</th>\n",
       "      <td>599.000000</td>\n",
       "      <td>5.000000</td>\n",
       "      <td>1.344135e+09</td>\n",
       "      <td>Высокий рейтинг</td>\n",
       "    </tr>\n",
       "    <tr>\n",
       "      <th>26505</th>\n",
       "      <td>547.000000</td>\n",
       "      <td>4.500000</td>\n",
       "      <td>1.261380e+09</td>\n",
       "      <td>Высокий рейтинг</td>\n",
       "    </tr>\n",
       "    <tr>\n",
       "      <th>26501</th>\n",
       "      <td>547.000000</td>\n",
       "      <td>5.000000</td>\n",
       "      <td>1.249033e+09</td>\n",
       "      <td>Высокий рейтинг</td>\n",
       "    </tr>\n",
       "    <tr>\n",
       "      <th>4821</th>\n",
       "      <td>329.333333</td>\n",
       "      <td>4.333333</td>\n",
       "      <td>1.104783e+09</td>\n",
       "      <td>Высокий рейтинг</td>\n",
       "    </tr>\n",
       "  </tbody>\n",
       "</table>\n",
       "</div>"
      ],
      "text/plain": [
       "             userId    rating     timestamp      movie_class\n",
       "movieId                                                     \n",
       "163949   547.000000  5.000000  1.476419e+09  Высокий рейтинг\n",
       "86817    599.000000  5.000000  1.344135e+09  Высокий рейтинг\n",
       "26505    547.000000  4.500000  1.261380e+09  Высокий рейтинг\n",
       "26501    547.000000  5.000000  1.249033e+09  Высокий рейтинг\n",
       "4821     329.333333  4.333333  1.104783e+09  Высокий рейтинг"
      ]
     },
     "execution_count": 147,
     "metadata": {},
     "output_type": "execute_result"
    }
   ],
   "source": [
    "data['movie_class'] = data.apply(movie_class, axis=1)\n",
    "data.sort_values('movie_class').head()"
   ]
  },
  {
   "cell_type": "markdown",
   "metadata": {},
   "source": [
    "Задача 3"
   ]
  },
  {
   "cell_type": "code",
   "execution_count": null,
   "metadata": {},
   "outputs": [],
   "source": []
  }
 ],
 "metadata": {
  "kernelspec": {
   "display_name": "Python 3",
   "language": "python",
   "name": "python3"
  },
  "language_info": {
   "codemirror_mode": {
    "name": "ipython",
    "version": 3
   },
   "file_extension": ".py",
   "mimetype": "text/x-python",
   "name": "python",
   "nbconvert_exporter": "python",
   "pygments_lexer": "ipython3",
   "version": "3.7.1"
  }
 },
 "nbformat": 4,
 "nbformat_minor": 2
}

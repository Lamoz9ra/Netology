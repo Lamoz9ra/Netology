{
 "cells": [
  {
   "cell_type": "markdown",
   "metadata": {},
   "source": [
    "### Задание 1"
   ]
  },
  {
   "cell_type": "markdown",
   "metadata": {},
   "source": [
    "Монетку подбрасывают 15 раз, найдите вероятность выпадения простого числа (решение на бумажке и на python)."
   ]
  },
  {
   "cell_type": "code",
   "execution_count": 21,
   "metadata": {},
   "outputs": [],
   "source": [
    "import matplotlib.pyplot as plt\n",
    "import numpy as np\n",
    "import random\n",
    "import seaborn\n",
    "import math \n",
    "from numpy.random import choice\n",
    "from scipy.stats import *\n",
    "\n",
    "%matplotlib inline"
   ]
  },
  {
   "cell_type": "code",
   "execution_count": 8,
   "metadata": {},
   "outputs": [
    {
     "name": "stdout",
     "output_type": "stream",
     "text": [
      "Вероятность числа 2 равна 0.003204345703125\n",
      "Вероятность числа 3 равна 0.013885498046875\n",
      "Вероятность числа 5 равна 0.091644287109375\n",
      "Вероятность числа 7 равна 0.196380615234375\n",
      "Вероятность числа 11 равна 0.041656494140625\n",
      "Вероятность числа 13 равна 0.003204345703125\n",
      "Итоговая вероятность равна = 0.3499755859375\n"
     ]
    }
   ],
   "source": [
    "x = [2,3,5,7,11,13]\n",
    "prob=0\n",
    "b=0\n",
    "for xx in x:\n",
    "    prob1=(math.factorial(15)/(math.factorial(15-xx)*math.factorial(xx)))*(0.5**xx)*(0.5)**(15-xx)\n",
    "    print(f'Вероятность числа {xx} равна {prob1}')\n",
    "    prob+=prob1\n",
    "print(f'Итоговая вероятность равна = {prob}')"
   ]
  },
  {
   "cell_type": "markdown",
   "metadata": {},
   "source": [
    "### Задание 2"
   ]
  },
  {
   "cell_type": "markdown",
   "metadata": {},
   "source": [
    "Создайте свою дискретную случайную величину с не менее, чем 10 значениями. Просемплируйте 1000 случайных значений, постройте гистограмму плотности распределения по выборке, посчитайте среднее, дисперсию и медиану."
   ]
  },
  {
   "cell_type": "code",
   "execution_count": 22,
   "metadata": {},
   "outputs": [
    {
     "data": {
      "text/plain": [
       "[Text(0, 0.5, 'Frequency'), Text(0.5, 0, 'Binomial')]"
      ]
     },
     "execution_count": 22,
     "metadata": {},
     "output_type": "execute_result"
    },
    {
     "data": {
      "image/png": "[encoded data removed]",
      "text/plain": [
       "<Figure size 432x288 with 1 Axes>"
      ]
     },
     "metadata": {
      "needs_background": "light"
     },
     "output_type": "display_data"
    }
   ],
   "source": [
    "elements = [1, 2, 3, 4, 5, 6, 7, 15, 16, 20]\n",
    "probabilities = [0.05, 0.05, 0.05, 0.1, 0.1, 0.2, 0.05, 0.2, 0.18, 0.02]\n",
    "vib=np.random.choice(elements, 1000, p=probabilities)\n",
    "ax=seaborn.distplot(vib,\n",
    "                kde=True,\n",
    "                color='pink',\n",
    "                hist_kws={\"linewidth\": 22,'alpha':0.77})\n",
    "ax.set(xlabel='Random',ylabel='Frequency')\n"
   ]
  },
  {
   "cell_type": "code",
   "execution_count": 35,
   "metadata": {},
   "outputs": [
    {
     "name": "stdout",
     "output_type": "stream",
     "text": [
      "\n",
      "Дисперсия = 31.473599999999998 \n",
      "Среднее = 9.08\n",
      "Медиана = 6.0\n"
     ]
    }
   ],
   "source": [
    "varr=np.var(vib)\n",
    "mean_vib=np.mean(vib)\n",
    "median_vib=np.median(vib)\n",
    "s='/n'\n",
    "print(f'''\n",
    "Дисперсия = {varr} \n",
    "Среднее = {mean_vib}\n",
    "Медиана = {median_vib}''')"
   ]
  },
  {
   "cell_type": "code",
   "execution_count": null,
   "metadata": {},
   "outputs": [],
   "source": []
  },
  {
   "cell_type": "markdown",
   "metadata": {},
   "source": [
    "А как это проще посчитать для распределения без выборки? Т.е. значения генеральной совокупности?"
   ]
  },
  {
   "cell_type": "markdown",
   "metadata": {},
   "source": [
    "### Задание 3"
   ]
  },
  {
   "cell_type": "markdown",
   "metadata": {},
   "source": [
    "Задача с 17-го слайда лекции про 3 монеты. Покажите, почему 3 события являются попарно независимыми, но <b>не</b> являются независимыми в совокупности."
   ]
  },
  {
   "cell_type": "markdown",
   "metadata": {},
   "source": [
    "$A_1=0.5*0.5*2 = 0.5$ Так как надо участь как орел, так и решка.\n",
    "\n",
    "Аналогично $A_2=0.5*0.5*2 = 0.5$ и $A_3=0.5*0.5*2 = 0.5$ \n",
    "\n",
    "А совокупность равна: $A_{123}=\\frac{1}{8}*2 = \\frac{1}{4}$ \n",
    "\n",
    "Следовательно, $\\frac{1}{4} \\neq \\frac{1}{2}*\\frac{1}{2}*\\frac{1}{2}$"
   ]
  },
  {
   "cell_type": "markdown",
   "metadata": {},
   "source": [
    "### Задание 4 (формула полной вероятности)"
   ]
  },
  {
   "cell_type": "markdown",
   "metadata": {},
   "source": [
    "В магазин привезли устройства с 3-х разных предприятий. Соотношение устройств следующее: 20% - продукция первого предприятия, 30% - продукция второго предприятия, 50% - продукция третьего предприятия; далее, 10% продукции первого предприятия высшего сорта, на втором предприятии - 5% и на третьем - 20% продукции высшего сорта. Найти вероятность того, что случайно купленная новая продукция окажется высшего сорта."
   ]
  },
  {
   "cell_type": "markdown",
   "metadata": {},
   "source": [
    "По формуле полной вероятности:\n",
    "\n",
    "$A_{high qual}=0.2*0.1+0.3*0.05+0.5*0.2 = 0.135$ "
   ]
  }
 ],
 "metadata": {
  "kernelspec": {
   "display_name": "Python 3",
   "language": "python",
   "name": "python3"
  },
  "language_info": {
   "codemirror_mode": {
    "name": "ipython",
    "version": 3
   },
   "file_extension": ".py",
   "mimetype": "text/x-python",
   "name": "python",
   "nbconvert_exporter": "python",
   "pygments_lexer": "ipython3",
   "version": "3.7.1"
  }
 },
 "nbformat": 4,
 "nbformat_minor": 2
}

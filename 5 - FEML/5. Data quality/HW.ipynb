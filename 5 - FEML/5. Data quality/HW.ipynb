{
 "cells": [
  {
   "cell_type": "code",
   "execution_count": 19,
   "metadata": {},
   "outputs": [],
   "source": [
    "import numpy as np\n",
    "import pandas as pd\n",
    "import seaborn as sns\n",
    "\n",
    "from sklearn.linear_model import LinearRegression"
   ]
  },
  {
   "cell_type": "markdown",
   "metadata": {},
   "source": [
    "### 1. Создаем исходные данные для подсчета индекса массы тела (BMI)"
   ]
  },
  {
   "cell_type": "code",
   "execution_count": 20,
   "metadata": {},
   "outputs": [
    {
     "data": {
      "text/html": [
       "<div>\n",
       "<style scoped>\n",
       "    .dataframe tbody tr th:only-of-type {\n",
       "        vertical-align: middle;\n",
       "    }\n",
       "\n",
       "    .dataframe tbody tr th {\n",
       "        vertical-align: top;\n",
       "    }\n",
       "\n",
       "    .dataframe thead th {\n",
       "        text-align: right;\n",
       "    }\n",
       "</style>\n",
       "<table border=\"1\" class=\"dataframe\">\n",
       "  <thead>\n",
       "    <tr style=\"text-align: right;\">\n",
       "      <th></th>\n",
       "      <th>age_owner</th>\n",
       "      <th>height</th>\n",
       "      <th>weight</th>\n",
       "      <th>BMI</th>\n",
       "    </tr>\n",
       "  </thead>\n",
       "  <tbody>\n",
       "    <tr>\n",
       "      <th>0</th>\n",
       "      <td>23</td>\n",
       "      <td>161</td>\n",
       "      <td>64</td>\n",
       "      <td>26.690405</td>\n",
       "    </tr>\n",
       "    <tr>\n",
       "      <th>1</th>\n",
       "      <td>32</td>\n",
       "      <td>209</td>\n",
       "      <td>147</td>\n",
       "      <td>35.653076</td>\n",
       "    </tr>\n",
       "    <tr>\n",
       "      <th>2</th>\n",
       "      <td>30</td>\n",
       "      <td>136</td>\n",
       "      <td>76</td>\n",
       "      <td>43.089965</td>\n",
       "    </tr>\n",
       "    <tr>\n",
       "      <th>3</th>\n",
       "      <td>34</td>\n",
       "      <td>123</td>\n",
       "      <td>120</td>\n",
       "      <td>81.317866</td>\n",
       "    </tr>\n",
       "    <tr>\n",
       "      <th>4</th>\n",
       "      <td>33</td>\n",
       "      <td>145</td>\n",
       "      <td>65</td>\n",
       "      <td>32.915577</td>\n",
       "    </tr>\n",
       "  </tbody>\n",
       "</table>\n",
       "</div>"
      ],
      "text/plain": [
       "   age_owner  height  weight        BMI\n",
       "0         23     161      64  26.690405\n",
       "1         32     209     147  35.653076\n",
       "2         30     136      76  43.089965\n",
       "3         34     123     120  81.317866\n",
       "4         33     145      65  32.915577"
      ]
     },
     "execution_count": 20,
     "metadata": {},
     "output_type": "execute_result"
    }
   ],
   "source": [
    "# Создаём сэмпл\n",
    "n_samples = 1000\n",
    "\n",
    "age_owner = np.random.randint(18, 35, n_samples)\n",
    "height = np.random.randint(120, 210, n_samples)\n",
    "weight = np.random.randint(50, 150, n_samples)\n",
    "\n",
    "BMI = weight / (height / 100) ** 2 + 2\n",
    "\n",
    "data = pd.DataFrame({'age_owner': age_owner, 'height': height, 'weight': weight, 'BMI': BMI})\n",
    "data.head(5)"
   ]
  },
  {
   "cell_type": "markdown",
   "metadata": {},
   "source": [
    "### 2. Как настоящие датасаентисты пробуем запустить линейную регрессию на всех атрибутах, что есть. Вдруг повезет."
   ]
  },
  {
   "cell_type": "code",
   "execution_count": 21,
   "metadata": {},
   "outputs": [
    {
     "name": "stdout",
     "output_type": "stream",
     "text": [
      "Weights: [ 0.01766818 -0.49716359  0.39248441]\n",
      "Bias: 83.98648719944964\n",
      "Error: 3.6640599240713563\n"
     ]
    }
   ],
   "source": [
    "from sklearn.metrics import mean_absolute_error\n",
    "\n",
    "X = data[['age_owner', 'height', 'weight']]\n",
    "y = data['BMI']\n",
    "reg = LinearRegression(normalize=True).fit(X, y)\n",
    "print('Weights: {}'.format(reg.coef_))\n",
    "print('Bias: {}'.format(reg.intercept_))\n",
    "\n",
    "pred_values = reg.predict(data[['age_owner', 'height', 'weight']])\n",
    "print('Error: {}'.format(mean_absolute_error(pred_values, y)))"
   ]
  },
  {
   "cell_type": "markdown",
   "metadata": {},
   "source": [
    "### 3. Видим, что 1 из признаков дает низкий вклад, попробуем его убрать."
   ]
  },
  {
   "cell_type": "code",
   "execution_count": 22,
   "metadata": {},
   "outputs": [
    {
     "name": "stdout",
     "output_type": "stream",
     "text": [
      "Weights: [-0.4971542   0.39238926]\n",
      "Bias: 84.4543616263669\n",
      "Error: 3.6679716445259123\n"
     ]
    }
   ],
   "source": [
    "X = data[['height', 'weight']]\n",
    "y = data['BMI']\n",
    "reg = LinearRegression().fit(X, y)\n",
    "print('Weights: {}'.format(reg.coef_))\n",
    "print('Bias: {}'.format(reg.intercept_))\n",
    "\n",
    "pred_values = reg.predict(data[['height', 'weight']])\n",
    "print('Error: {}'.format(mean_absolute_error(pred_values, y)))"
   ]
  },
  {
   "cell_type": "markdown",
   "metadata": {},
   "source": [
    "### 4. Помогло не сильно, но это и очевидно, вес итак уже около 0, соответсвенно и влияния на ошибку после исключения тоже около 0. Значит будем пользоваться логикой и попробуем изменить атрибут роста."
   ]
  },
  {
   "cell_type": "code",
   "execution_count": 23,
   "metadata": {},
   "outputs": [
    {
     "data": {
      "text/html": [
       "<div>\n",
       "<style scoped>\n",
       "    .dataframe tbody tr th:only-of-type {\n",
       "        vertical-align: middle;\n",
       "    }\n",
       "\n",
       "    .dataframe tbody tr th {\n",
       "        vertical-align: top;\n",
       "    }\n",
       "\n",
       "    .dataframe thead th {\n",
       "        text-align: right;\n",
       "    }\n",
       "</style>\n",
       "<table border=\"1\" class=\"dataframe\">\n",
       "  <thead>\n",
       "    <tr style=\"text-align: right;\">\n",
       "      <th></th>\n",
       "      <th>age_owner</th>\n",
       "      <th>height</th>\n",
       "      <th>weight</th>\n",
       "      <th>BMI</th>\n",
       "      <th>new_height</th>\n",
       "    </tr>\n",
       "  </thead>\n",
       "  <tbody>\n",
       "    <tr>\n",
       "      <th>0</th>\n",
       "      <td>23</td>\n",
       "      <td>161</td>\n",
       "      <td>64</td>\n",
       "      <td>26.690405</td>\n",
       "      <td>2.5921</td>\n",
       "    </tr>\n",
       "    <tr>\n",
       "      <th>1</th>\n",
       "      <td>32</td>\n",
       "      <td>209</td>\n",
       "      <td>147</td>\n",
       "      <td>35.653076</td>\n",
       "      <td>4.3681</td>\n",
       "    </tr>\n",
       "    <tr>\n",
       "      <th>2</th>\n",
       "      <td>30</td>\n",
       "      <td>136</td>\n",
       "      <td>76</td>\n",
       "      <td>43.089965</td>\n",
       "      <td>1.8496</td>\n",
       "    </tr>\n",
       "    <tr>\n",
       "      <th>3</th>\n",
       "      <td>34</td>\n",
       "      <td>123</td>\n",
       "      <td>120</td>\n",
       "      <td>81.317866</td>\n",
       "      <td>1.5129</td>\n",
       "    </tr>\n",
       "    <tr>\n",
       "      <th>4</th>\n",
       "      <td>33</td>\n",
       "      <td>145</td>\n",
       "      <td>65</td>\n",
       "      <td>32.915577</td>\n",
       "      <td>2.1025</td>\n",
       "    </tr>\n",
       "  </tbody>\n",
       "</table>\n",
       "</div>"
      ],
      "text/plain": [
       "   age_owner  height  weight        BMI  new_height\n",
       "0         23     161      64  26.690405      2.5921\n",
       "1         32     209     147  35.653076      4.3681\n",
       "2         30     136      76  43.089965      1.8496\n",
       "3         34     123     120  81.317866      1.5129\n",
       "4         33     145      65  32.915577      2.1025"
      ]
     },
     "execution_count": 23,
     "metadata": {},
     "output_type": "execute_result"
    }
   ],
   "source": [
    "# Создаем новый признак\n",
    "data['new_height'] = (data['height'] / 100) ** 2\n",
    "data.head(5)"
   ]
  },
  {
   "cell_type": "code",
   "execution_count": 24,
   "metadata": {},
   "outputs": [
    {
     "name": "stdout",
     "output_type": "stream",
     "text": [
      "Weights: [-14.87074053   0.39112373]\n",
      "Bias: 44.04114730745591\n",
      "Error: 4.123844756374423\n"
     ]
    }
   ],
   "source": [
    "X = data[['new_height', 'weight']]\n",
    "y = data['BMI']\n",
    "reg = LinearRegression().fit(X, y)\n",
    "print('Weights: {}'.format(reg.coef_))\n",
    "print('Bias: {}'.format(reg.intercept_))\n",
    "\n",
    "pred_values = reg.predict(data[['new_height', 'weight']])\n",
    "print('Error: {}'.format(mean_absolute_error(pred_values, y)))"
   ]
  },
  {
   "cell_type": "markdown",
   "metadata": {},
   "source": [
    "### 5. Только ухудшило результат, но мы парни отчаянные, будет пробовать пристроить куда-нибудь свой новый признак."
   ]
  },
  {
   "cell_type": "code",
   "execution_count": 25,
   "metadata": {},
   "outputs": [
    {
     "data": {
      "text/html": [
       "<div>\n",
       "<style scoped>\n",
       "    .dataframe tbody tr th:only-of-type {\n",
       "        vertical-align: middle;\n",
       "    }\n",
       "\n",
       "    .dataframe tbody tr th {\n",
       "        vertical-align: top;\n",
       "    }\n",
       "\n",
       "    .dataframe thead th {\n",
       "        text-align: right;\n",
       "    }\n",
       "</style>\n",
       "<table border=\"1\" class=\"dataframe\">\n",
       "  <thead>\n",
       "    <tr style=\"text-align: right;\">\n",
       "      <th></th>\n",
       "      <th>age_owner</th>\n",
       "      <th>height</th>\n",
       "      <th>weight</th>\n",
       "      <th>BMI</th>\n",
       "      <th>new_height</th>\n",
       "      <th>new_height_Weight</th>\n",
       "    </tr>\n",
       "  </thead>\n",
       "  <tbody>\n",
       "    <tr>\n",
       "      <th>0</th>\n",
       "      <td>23</td>\n",
       "      <td>161</td>\n",
       "      <td>64</td>\n",
       "      <td>26.690405</td>\n",
       "      <td>2.5921</td>\n",
       "      <td>24.690405</td>\n",
       "    </tr>\n",
       "    <tr>\n",
       "      <th>1</th>\n",
       "      <td>32</td>\n",
       "      <td>209</td>\n",
       "      <td>147</td>\n",
       "      <td>35.653076</td>\n",
       "      <td>4.3681</td>\n",
       "      <td>33.653076</td>\n",
       "    </tr>\n",
       "    <tr>\n",
       "      <th>2</th>\n",
       "      <td>30</td>\n",
       "      <td>136</td>\n",
       "      <td>76</td>\n",
       "      <td>43.089965</td>\n",
       "      <td>1.8496</td>\n",
       "      <td>41.089965</td>\n",
       "    </tr>\n",
       "    <tr>\n",
       "      <th>3</th>\n",
       "      <td>34</td>\n",
       "      <td>123</td>\n",
       "      <td>120</td>\n",
       "      <td>81.317866</td>\n",
       "      <td>1.5129</td>\n",
       "      <td>79.317866</td>\n",
       "    </tr>\n",
       "    <tr>\n",
       "      <th>4</th>\n",
       "      <td>33</td>\n",
       "      <td>145</td>\n",
       "      <td>65</td>\n",
       "      <td>32.915577</td>\n",
       "      <td>2.1025</td>\n",
       "      <td>30.915577</td>\n",
       "    </tr>\n",
       "  </tbody>\n",
       "</table>\n",
       "</div>"
      ],
      "text/plain": [
       "   age_owner  height  weight        BMI  new_height  new_height_Weight\n",
       "0         23     161      64  26.690405      2.5921          24.690405\n",
       "1         32     209     147  35.653076      4.3681          33.653076\n",
       "2         30     136      76  43.089965      1.8496          41.089965\n",
       "3         34     123     120  81.317866      1.5129          79.317866\n",
       "4         33     145      65  32.915577      2.1025          30.915577"
      ]
     },
     "execution_count": 25,
     "metadata": {},
     "output_type": "execute_result"
    }
   ],
   "source": [
    "data['new_height_Weight'] = data['weight'] / data['new_height']\n",
    "data.head(5)"
   ]
  },
  {
   "cell_type": "code",
   "execution_count": 28,
   "metadata": {},
   "outputs": [
    {
     "name": "stdout",
     "output_type": "stream",
     "text": [
      "Weights: [1.00000000e+00 1.61593454e-16]\n",
      "Bias: 1.9999999999999787\n",
      "Error: 6.957989739930781e-15\n"
     ]
    }
   ],
   "source": [
    "X = data[['new_height_Weight', 'weight']]\n",
    "y = data['BMI']\n",
    "reg = LinearRegression().fit(X, y)\n",
    "print('Weights: {}'.format(reg.coef_))\n",
    "print('Bias: {}'.format(reg.intercept_))\n",
    "\n",
    "pred_values = reg.predict(data[['new_height_Weight', 'weight']])\n",
    "print('Error: {}'.format(mean_absolute_error(pred_values, y)))"
   ]
  },
  {
   "cell_type": "markdown",
   "metadata": {},
   "source": [
    "### 6. Точнейшее попадание. Даже то, что мы добавили в список атрибутов вес никак не повлияло на модель, она просто занулила вес."
   ]
  }
 ],
 "metadata": {
  "kernelspec": {
   "display_name": "Python 3",
   "language": "python",
   "name": "python3"
  },
  "language_info": {
   "codemirror_mode": {
    "name": "ipython",
    "version": 3
   },
   "file_extension": ".py",
   "mimetype": "text/x-python",
   "name": "python",
   "nbconvert_exporter": "python",
   "pygments_lexer": "ipython3",
   "version": "3.8.5"
  }
 },
 "nbformat": 4,
 "nbformat_minor": 4
}
